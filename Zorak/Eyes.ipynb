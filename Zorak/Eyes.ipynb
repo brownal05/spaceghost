{
 "cells": [
  {
   "cell_type": "code",
   "execution_count": 1,
   "metadata": {},
   "outputs": [],
   "source": [
    "import pandas as pd\n",
    "from splinter import Browser\n",
    "from bs4 import BeautifulSoup\n",
    "import requests\n",
    "import time"
   ]
  },
  {
   "cell_type": "code",
   "execution_count": 36,
   "metadata": {},
   "outputs": [],
   "source": [
    "executable_path = {'executable_path':'./chromedriver.exe'}\n",
    "browser = Browser('chrome',**executable_path, headless=False)"
   ]
  },
  {
   "cell_type": "code",
   "execution_count": 6,
   "metadata": {},
   "outputs": [],
   "source": [
    "url = 'https://eyes.jpl.nasa.gov/dsn/dsn.html'\n",
    "response = browser.visit(url)\n",
    "html=browser.html\n",
    "soup = BeautifulSoup(html, 'html.parser')"
   ]
  },
  {
   "cell_type": "code",
   "execution_count": 18,
   "metadata": {},
   "outputs": [],
   "source": [
    "def dsn_data():\n",
    "    url = 'https://eyes.jpl.nasa.gov/dsn/dsn.html'\n",
    "    browser.visit(url)\n",
    "    html=browser.html\n",
    "    soup = BeautifulSoup(html, 'html.parser')\n",
    "    sites = soup('h1')\n",
    "    site_dict = {}\n",
    "    for i in [0,1,2]:\n",
    "        for site in range(0,len(sites)):\n",
    "            if sites[site].a is None:\n",
    "                if sites[site].text not in site_dict.keys():\n",
    "                    if sites[site].has_attr('id') is False:\n",
    "                        site_dict[sites[site].text] = {}\n",
    "            else:\n",
    "                var = sites[site].a.get('id')\n",
    "                if sites[site].a.text == browser.find_by_css('a[class=\"inactive\"]')[4].text:\n",
    "                    if var[8] == str(i):\n",
    "                        site_dict[list(site_dict.keys())[i]][sites[site].a.text]={}"
   ]
  },
  {
   "cell_type": "code",
   "execution_count": 109,
   "metadata": {},
   "outputs": [],
   "source": [
    "\n",
    "sites = soup('h1')\n",
    "site_dict = {}\n",
    "for i in [0,1,2]:\n",
    "    for site in range(0,len(sites)):\n",
    "        if sites[site].a is None:\n",
    "            if sites[site].text not in site_dict.keys():\n",
    "                if sites[site].has_attr('id') is False:\n",
    "                    site_dict[sites[site].text] = {}"
   ]
  },
  {
   "cell_type": "code",
   "execution_count": 110,
   "metadata": {},
   "outputs": [
    {
     "data": {
      "text/plain": [
       "{'MADRID': {}, 'GOLDSTONE': {}, 'CANBERRA': {}}"
      ]
     },
     "execution_count": 110,
     "metadata": {},
     "output_type": "execute_result"
    }
   ],
   "source": [
    "MADRID = {}\n",
    "GOLDSTONE = {}\n",
    "CANBERRA = {}"
   ]
  },
  {
   "cell_type": "code",
   "execution_count": 44,
   "metadata": {},
   "outputs": [
    {
     "name": "stdout",
     "output_type": "stream",
     "text": [
      "ORX\n",
      "ORX | spacecraft_0_0_0\n",
      "M01O\n",
      "M01O | spacecraft_0_1_0\n",
      "M01O\n",
      "M01O | spacecraft_0_2_0\n",
      "MRO\n",
      "MRO | spacecraft_0_2_1\n",
      "MVN\n",
      "MVN | spacecraft_0_3_0\n",
      "63\n",
      "63 | dishnum_0_0\n",
      "65\n",
      "65 | dishnum_0_1\n",
      "54\n",
      "54 | dishnum_0_2\n",
      "55\n",
      "55 | dishnum_0_3\n",
      "DSS\n",
      "DSS | spacecraft_1_1_0\n",
      "HYB2\n",
      "HYB2 | spacecraft_1_2_0\n",
      "M01O\n",
      "M01O | spacecraft_1_3_0\n",
      "MVN\n",
      "MVN | spacecraft_1_3_1\n",
      "MRO\n",
      "MRO | spacecraft_1_3_2\n",
      "24\n",
      "24 | dishnum_1_1\n",
      "25\n",
      "25 | dishnum_1_2\n",
      "26\n",
      "26 | dishnum_1_3\n",
      "NHPC\n",
      "NHPC | spacecraft_2_0_0\n",
      "SPP\n",
      "SPP | spacecraft_2_2_0\n",
      "43\n",
      "43 | dishnum_2_0\n",
      "35\n",
      "35 | dishnum_2_2\n",
      "VIEW\n",
      "ANTENNA | view_dish\n",
      "VIEW\n",
      "SPACECRAFT | view_spacecraft\n",
      "VIEW\n",
      "WORLD MAP | view_map\n",
      "ORX\n",
      "ORX | spacecraftbutton_0_0_0\n",
      "credits | credits_button\n"
     ]
    }
   ],
   "source": [
    "browser.visit(url)\n",
    "time.sleep(.3)\n",
    "for i in browser.find_by_tag('a'):\n",
    "    if i['class']=='inactive' or None:\n",
    "        pass\n",
    "    elif i.text == '':\n",
    "        pass\n",
    "    elif i['id'] == '' or None:\n",
    "        pass                \n",
    "    else:\n",
    "        if i['id'][:2] == 'sp':\n",
    "            ABV = i.text\n",
    "            print(ABV)\n",
    "        elif i['id'][:2] == 'di':\n",
    "            dishnum = i.text\n",
    "            print(dishnum)\n",
    "        print(i.text,\"|\",i['id'])"
   ]
  },
  {
   "cell_type": "code",
   "execution_count": 112,
   "metadata": {},
   "outputs": [
    {
     "name": "stdout",
     "output_type": "stream",
     "text": [
      "ORX\n",
      "{'MADRID': {}, 'GOLDSTONE': {}, 'CANBERRA': {}}\n",
      "63\n"
     ]
    },
    {
     "ename": "StaleElementReferenceException",
     "evalue": "Message: stale element reference: element is not attached to the page document\n  (Session info: chrome=72.0.3626.119)\n  (Driver info: chromedriver=73.0.3683.20 (8e2b610813e167eee3619ac4ce6e42e3ec622017),platform=Windows NT 10.0.17134 x86_64)\n",
     "output_type": "error",
     "traceback": [
      "\u001b[1;31m---------------------------------------------------------------------------\u001b[0m",
      "\u001b[1;31mStaleElementReferenceException\u001b[0m            Traceback (most recent call last)",
      "\u001b[1;32m<ipython-input-112-d0b7d0652f5f>\u001b[0m in \u001b[0;36m<module>\u001b[1;34m()\u001b[0m\n\u001b[0;32m      4\u001b[0m     \u001b[1;32mfor\u001b[0m \u001b[0mx\u001b[0m \u001b[1;32min\u001b[0m \u001b[1;33m[\u001b[0m\u001b[1;36m0\u001b[0m\u001b[1;33m,\u001b[0m\u001b[1;36m1\u001b[0m\u001b[1;33m,\u001b[0m\u001b[1;36m2\u001b[0m\u001b[1;33m]\u001b[0m\u001b[1;33m:\u001b[0m\u001b[1;33m\u001b[0m\u001b[0m\n\u001b[0;32m      5\u001b[0m         \u001b[1;32mfor\u001b[0m \u001b[0mz\u001b[0m \u001b[1;32min\u001b[0m \u001b[1;33m[\u001b[0m\u001b[1;36m0\u001b[0m\u001b[1;33m,\u001b[0m\u001b[1;36m1\u001b[0m\u001b[1;33m,\u001b[0m\u001b[1;36m2\u001b[0m\u001b[1;33m,\u001b[0m\u001b[1;36m3\u001b[0m\u001b[1;33m]\u001b[0m\u001b[1;33m:\u001b[0m\u001b[1;33m\u001b[0m\u001b[0m\n\u001b[1;32m----> 6\u001b[1;33m             \u001b[1;32mif\u001b[0m \u001b[0mi\u001b[0m\u001b[1;33m[\u001b[0m\u001b[1;34m'class'\u001b[0m\u001b[1;33m]\u001b[0m \u001b[1;33m==\u001b[0m \u001b[1;34m'inactive'\u001b[0m \u001b[1;32mor\u001b[0m \u001b[1;32mNone\u001b[0m\u001b[1;33m:\u001b[0m\u001b[1;33m\u001b[0m\u001b[0m\n\u001b[0m\u001b[0;32m      7\u001b[0m                 \u001b[1;32mpass\u001b[0m\u001b[1;33m\u001b[0m\u001b[0m\n\u001b[0;32m      8\u001b[0m             \u001b[1;32melif\u001b[0m \u001b[0mi\u001b[0m\u001b[1;33m.\u001b[0m\u001b[0mtext\u001b[0m \u001b[1;33m==\u001b[0m \u001b[1;34m''\u001b[0m\u001b[1;33m:\u001b[0m\u001b[1;33m\u001b[0m\u001b[0m\n",
      "\u001b[1;32m~\\Anaconda3\\lib\\site-packages\\splinter\\driver\\webdriver\\__init__.py\u001b[0m in \u001b[0;36m__getitem__\u001b[1;34m(self, attr)\u001b[0m\n\u001b[0;32m    816\u001b[0m \u001b[1;33m\u001b[0m\u001b[0m\n\u001b[0;32m    817\u001b[0m     \u001b[1;32mdef\u001b[0m \u001b[0m__getitem__\u001b[0m\u001b[1;33m(\u001b[0m\u001b[0mself\u001b[0m\u001b[1;33m,\u001b[0m \u001b[0mattr\u001b[0m\u001b[1;33m)\u001b[0m\u001b[1;33m:\u001b[0m\u001b[1;33m\u001b[0m\u001b[0m\n\u001b[1;32m--> 818\u001b[1;33m         \u001b[1;32mreturn\u001b[0m \u001b[0mself\u001b[0m\u001b[1;33m.\u001b[0m\u001b[0m_element\u001b[0m\u001b[1;33m.\u001b[0m\u001b[0mget_attribute\u001b[0m\u001b[1;33m(\u001b[0m\u001b[0mattr\u001b[0m\u001b[1;33m)\u001b[0m\u001b[1;33m\u001b[0m\u001b[0m\n\u001b[0m\u001b[0;32m    819\u001b[0m \u001b[1;33m\u001b[0m\u001b[0m\n\u001b[0;32m    820\u001b[0m \u001b[1;33m\u001b[0m\u001b[0m\n",
      "\u001b[1;32m~\\Anaconda3\\lib\\site-packages\\selenium\\webdriver\\remote\\webelement.py\u001b[0m in \u001b[0;36mget_attribute\u001b[1;34m(self, name)\u001b[0m\n\u001b[0;32m    141\u001b[0m                 self, name)\n\u001b[0;32m    142\u001b[0m         \u001b[1;32melse\u001b[0m\u001b[1;33m:\u001b[0m\u001b[1;33m\u001b[0m\u001b[0m\n\u001b[1;32m--> 143\u001b[1;33m             \u001b[0mresp\u001b[0m \u001b[1;33m=\u001b[0m \u001b[0mself\u001b[0m\u001b[1;33m.\u001b[0m\u001b[0m_execute\u001b[0m\u001b[1;33m(\u001b[0m\u001b[0mCommand\u001b[0m\u001b[1;33m.\u001b[0m\u001b[0mGET_ELEMENT_ATTRIBUTE\u001b[0m\u001b[1;33m,\u001b[0m \u001b[1;33m{\u001b[0m\u001b[1;34m'name'\u001b[0m\u001b[1;33m:\u001b[0m \u001b[0mname\u001b[0m\u001b[1;33m}\u001b[0m\u001b[1;33m)\u001b[0m\u001b[1;33m\u001b[0m\u001b[0m\n\u001b[0m\u001b[0;32m    144\u001b[0m             \u001b[0mattributeValue\u001b[0m \u001b[1;33m=\u001b[0m \u001b[0mresp\u001b[0m\u001b[1;33m.\u001b[0m\u001b[0mget\u001b[0m\u001b[1;33m(\u001b[0m\u001b[1;34m'value'\u001b[0m\u001b[1;33m)\u001b[0m\u001b[1;33m\u001b[0m\u001b[0m\n\u001b[0;32m    145\u001b[0m             \u001b[1;32mif\u001b[0m \u001b[0mattributeValue\u001b[0m \u001b[1;32mis\u001b[0m \u001b[1;32mnot\u001b[0m \u001b[1;32mNone\u001b[0m\u001b[1;33m:\u001b[0m\u001b[1;33m\u001b[0m\u001b[0m\n",
      "\u001b[1;32m~\\Anaconda3\\lib\\site-packages\\selenium\\webdriver\\remote\\webelement.py\u001b[0m in \u001b[0;36m_execute\u001b[1;34m(self, command, params)\u001b[0m\n\u001b[0;32m    631\u001b[0m             \u001b[0mparams\u001b[0m \u001b[1;33m=\u001b[0m \u001b[1;33m{\u001b[0m\u001b[1;33m}\u001b[0m\u001b[1;33m\u001b[0m\u001b[0m\n\u001b[0;32m    632\u001b[0m         \u001b[0mparams\u001b[0m\u001b[1;33m[\u001b[0m\u001b[1;34m'id'\u001b[0m\u001b[1;33m]\u001b[0m \u001b[1;33m=\u001b[0m \u001b[0mself\u001b[0m\u001b[1;33m.\u001b[0m\u001b[0m_id\u001b[0m\u001b[1;33m\u001b[0m\u001b[0m\n\u001b[1;32m--> 633\u001b[1;33m         \u001b[1;32mreturn\u001b[0m \u001b[0mself\u001b[0m\u001b[1;33m.\u001b[0m\u001b[0m_parent\u001b[0m\u001b[1;33m.\u001b[0m\u001b[0mexecute\u001b[0m\u001b[1;33m(\u001b[0m\u001b[0mcommand\u001b[0m\u001b[1;33m,\u001b[0m \u001b[0mparams\u001b[0m\u001b[1;33m)\u001b[0m\u001b[1;33m\u001b[0m\u001b[0m\n\u001b[0m\u001b[0;32m    634\u001b[0m \u001b[1;33m\u001b[0m\u001b[0m\n\u001b[0;32m    635\u001b[0m     \u001b[1;32mdef\u001b[0m \u001b[0mfind_element\u001b[0m\u001b[1;33m(\u001b[0m\u001b[0mself\u001b[0m\u001b[1;33m,\u001b[0m \u001b[0mby\u001b[0m\u001b[1;33m=\u001b[0m\u001b[0mBy\u001b[0m\u001b[1;33m.\u001b[0m\u001b[0mID\u001b[0m\u001b[1;33m,\u001b[0m \u001b[0mvalue\u001b[0m\u001b[1;33m=\u001b[0m\u001b[1;32mNone\u001b[0m\u001b[1;33m)\u001b[0m\u001b[1;33m:\u001b[0m\u001b[1;33m\u001b[0m\u001b[0m\n",
      "\u001b[1;32m~\\Anaconda3\\lib\\site-packages\\selenium\\webdriver\\remote\\webdriver.py\u001b[0m in \u001b[0;36mexecute\u001b[1;34m(self, driver_command, params)\u001b[0m\n\u001b[0;32m    319\u001b[0m         \u001b[0mresponse\u001b[0m \u001b[1;33m=\u001b[0m \u001b[0mself\u001b[0m\u001b[1;33m.\u001b[0m\u001b[0mcommand_executor\u001b[0m\u001b[1;33m.\u001b[0m\u001b[0mexecute\u001b[0m\u001b[1;33m(\u001b[0m\u001b[0mdriver_command\u001b[0m\u001b[1;33m,\u001b[0m \u001b[0mparams\u001b[0m\u001b[1;33m)\u001b[0m\u001b[1;33m\u001b[0m\u001b[0m\n\u001b[0;32m    320\u001b[0m         \u001b[1;32mif\u001b[0m \u001b[0mresponse\u001b[0m\u001b[1;33m:\u001b[0m\u001b[1;33m\u001b[0m\u001b[0m\n\u001b[1;32m--> 321\u001b[1;33m             \u001b[0mself\u001b[0m\u001b[1;33m.\u001b[0m\u001b[0merror_handler\u001b[0m\u001b[1;33m.\u001b[0m\u001b[0mcheck_response\u001b[0m\u001b[1;33m(\u001b[0m\u001b[0mresponse\u001b[0m\u001b[1;33m)\u001b[0m\u001b[1;33m\u001b[0m\u001b[0m\n\u001b[0m\u001b[0;32m    322\u001b[0m             response['value'] = self._unwrap_value(\n\u001b[0;32m    323\u001b[0m                 response.get('value', None))\n",
      "\u001b[1;32m~\\Anaconda3\\lib\\site-packages\\selenium\\webdriver\\remote\\errorhandler.py\u001b[0m in \u001b[0;36mcheck_response\u001b[1;34m(self, response)\u001b[0m\n\u001b[0;32m    240\u001b[0m                 \u001b[0malert_text\u001b[0m \u001b[1;33m=\u001b[0m \u001b[0mvalue\u001b[0m\u001b[1;33m[\u001b[0m\u001b[1;34m'alert'\u001b[0m\u001b[1;33m]\u001b[0m\u001b[1;33m.\u001b[0m\u001b[0mget\u001b[0m\u001b[1;33m(\u001b[0m\u001b[1;34m'text'\u001b[0m\u001b[1;33m)\u001b[0m\u001b[1;33m\u001b[0m\u001b[0m\n\u001b[0;32m    241\u001b[0m             \u001b[1;32mraise\u001b[0m \u001b[0mexception_class\u001b[0m\u001b[1;33m(\u001b[0m\u001b[0mmessage\u001b[0m\u001b[1;33m,\u001b[0m \u001b[0mscreen\u001b[0m\u001b[1;33m,\u001b[0m \u001b[0mstacktrace\u001b[0m\u001b[1;33m,\u001b[0m \u001b[0malert_text\u001b[0m\u001b[1;33m)\u001b[0m\u001b[1;33m\u001b[0m\u001b[0m\n\u001b[1;32m--> 242\u001b[1;33m         \u001b[1;32mraise\u001b[0m \u001b[0mexception_class\u001b[0m\u001b[1;33m(\u001b[0m\u001b[0mmessage\u001b[0m\u001b[1;33m,\u001b[0m \u001b[0mscreen\u001b[0m\u001b[1;33m,\u001b[0m \u001b[0mstacktrace\u001b[0m\u001b[1;33m)\u001b[0m\u001b[1;33m\u001b[0m\u001b[0m\n\u001b[0m\u001b[0;32m    243\u001b[0m \u001b[1;33m\u001b[0m\u001b[0m\n\u001b[0;32m    244\u001b[0m     \u001b[1;32mdef\u001b[0m \u001b[0m_value_or_default\u001b[0m\u001b[1;33m(\u001b[0m\u001b[0mself\u001b[0m\u001b[1;33m,\u001b[0m \u001b[0mobj\u001b[0m\u001b[1;33m,\u001b[0m \u001b[0mkey\u001b[0m\u001b[1;33m,\u001b[0m \u001b[0mdefault\u001b[0m\u001b[1;33m)\u001b[0m\u001b[1;33m:\u001b[0m\u001b[1;33m\u001b[0m\u001b[0m\n",
      "\u001b[1;31mStaleElementReferenceException\u001b[0m: Message: stale element reference: element is not attached to the page document\n  (Session info: chrome=72.0.3626.119)\n  (Driver info: chromedriver=73.0.3683.20 (8e2b610813e167eee3619ac4ce6e42e3ec622017),platform=Windows NT 10.0.17134 x86_64)\n"
     ]
    }
   ],
   "source": [
    "browser.visit(url)\n",
    "time.sleep(0.2)\n",
    "for i in browser.find_by_tag('a'):\n",
    "    for x in [0,1,2]:\n",
    "        for z in [0,1,2,3]:\n",
    "            if i['class'] == 'inactive' or None:\n",
    "                pass\n",
    "            elif i.text == '':\n",
    "                pass\n",
    "            elif i['id'] == None:\n",
    "                pass                \n",
    "            else:\n",
    "                if i['id'][:2]=='di':\n",
    "                    dish_num = i.text\n",
    "                    #print(dish_num)\n",
    "                    if i['id'][-3:] == f'{x}_{z}':\n",
    "                        site_dict[list(site_dict.keys())[x]][dish_num] = {}\n",
    "                        print(dish_num)\n",
    "                elif i['id'][:2]=='sp':\n",
    "                    ABV = i.text\n",
    "                    #print(ABV)\n",
    "                    if f'{x}_{z}' in i['id']:\n",
    "                        print(ABV)\n",
    "                        print(site_dict)\n",
    "                        #site_dict[list(site_dict.keys())[x]][list(site_dict[dish_num].keys())[z]] = ABV"
   ]
  },
  {
   "cell_type": "code",
   "execution_count": 84,
   "metadata": {},
   "outputs": [
    {
     "data": {
      "text/plain": [
       "{'MADRID': {'63': {}, '65': {}, '54': {}, '55': {}},\n",
       " 'GOLDSTONE': {'24': {}, '25': {}, '26': {}},\n",
       " 'CANBERRA': {'43': {}, '35': {}}}"
      ]
     },
     "execution_count": 84,
     "metadata": {},
     "output_type": "execute_result"
    }
   ],
   "source": [
    "site_dict"
   ]
  },
  {
   "cell_type": "code",
   "execution_count": 426,
   "metadata": {},
   "outputs": [
    {
     "data": {
      "text/plain": [
       "[<h1>MADRID</h1>,\n",
       " <h1>MADRID</h1>,\n",
       " <h1><a href=\"javascript:void(0)\" id=\"dishnum_0_0\">63</a></h1>,\n",
       " <h1><a href=\"javascript:void(0)\" id=\"dishnum_0_1\">65</a></h1>,\n",
       " <h1><a href=\"javascript:void(0)\" id=\"dishnum_0_2\">54</a></h1>,\n",
       " <h1><a href=\"javascript:void(0)\" id=\"dishnum_0_3\">55</a></h1>,\n",
       " <h1>GOLDSTONE</h1>,\n",
       " <h1>GOLDSTONE</h1>,\n",
       " <h1><a href=\"javascript:void(0)\" id=\"dishnum_1_0\">14</a></h1>,\n",
       " <h1><a href=\"javascript:void(0)\" id=\"dishnum_1_1\">24</a></h1>,\n",
       " <h1><a href=\"javascript:void(0)\" id=\"dishnum_1_2\">25</a></h1>,\n",
       " <h1><a href=\"javascript:void(0)\" id=\"dishnum_1_3\">26</a></h1>,\n",
       " <h1>CANBERRA</h1>,\n",
       " <h1>CANBERRA</h1>,\n",
       " <h1><a href=\"javascript:void(0)\" id=\"dishnum_2_0\">43</a></h1>,\n",
       " <h1><a href=\"javascript:void(0)\" id=\"dishnum_2_1\">34</a></h1>,\n",
       " <h1><a href=\"javascript:void(0)\" id=\"dishnum_2_2\">35</a></h1>,\n",
       " <h1><a href=\"javascript:void(0)\" id=\"dishnum_2_3\">36</a></h1>,\n",
       " <h1 id=\"title_location\"> </h1>]"
      ]
     },
     "execution_count": 426,
     "metadata": {},
     "output_type": "execute_result"
    }
   ],
   "source": []
  },
  {
   "cell_type": "code",
   "execution_count": 86,
   "metadata": {},
   "outputs": [
    {
     "data": {
      "text/plain": [
       "{'MADRID': {}, 'GOLDSTONE': {}, 'CANBERRA': {}}"
      ]
     },
     "execution_count": 86,
     "metadata": {},
     "output_type": "execute_result"
    }
   ],
   "source": []
  },
  {
   "cell_type": "code",
   "execution_count": null,
   "metadata": {},
   "outputs": [],
   "source": []
  },
  {
   "cell_type": "code",
   "execution_count": 439,
   "metadata": {},
   "outputs": [
    {
     "name": "stdout",
     "output_type": "stream",
     "text": [
      "STA\n",
      "SOHO\n",
      "ACE\n",
      "VGR1\n",
      "Well, shit\n",
      "GBRA\n",
      "Well, shit\n"
     ]
    }
   ],
   "source": [
    "for x in [0,1,2]:\n",
    "    try:\n",
    "        for i in [0,1,2]:\n",
    "            print(browser.find_by_id(id=f'spacecraft_{x}_{i}_0').text)\n",
    "    except:\n",
    "        print(\"Well, shit\")\n",
    "        pass\n",
    "#spacecraft = browser.find_by_id(id='spacecraft_0_2_0')\n",
    "#spacecraft.text"
   ]
  },
  {
   "cell_type": "code",
   "execution_count": 446,
   "metadata": {},
   "outputs": [
    {
     "data": {
      "text/plain": [
       "'55'"
      ]
     },
     "execution_count": 446,
     "metadata": {},
     "output_type": "execute_result"
    }
   ],
   "source": [
    "browser.find_by_css('a[class=\"inactive\"]').value"
   ]
  },
  {
   "cell_type": "code",
   "execution_count": null,
   "metadata": {},
   "outputs": [],
   "source": []
  },
  {
   "cell_type": "code",
   "execution_count": 445,
   "metadata": {},
   "outputs": [],
   "source": [
    "#class='timestamp'\n",
    "#Find img.blue\n",
    "# dsn location = div.location-h1\n",
    "#div.signal.data_out.active_signal\n",
    "#div.signal.data_in.active_signal"
   ]
  },
  {
   "cell_type": "code",
   "execution_count": null,
   "metadata": {},
   "outputs": [],
   "source": []
  }
 ],
 "metadata": {
  "kernelspec": {
   "display_name": "Python 3",
   "language": "python",
   "name": "python3"
  },
  "language_info": {
   "codemirror_mode": {
    "name": "ipython",
    "version": 3
   },
   "file_extension": ".py",
   "mimetype": "text/x-python",
   "name": "python",
   "nbconvert_exporter": "python",
   "pygments_lexer": "ipython3",
   "version": "3.7.0"
  }
 },
 "nbformat": 4,
 "nbformat_minor": 2
}
