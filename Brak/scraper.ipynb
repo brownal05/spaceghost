{
 "cells": [
  {
   "cell_type": "code",
   "execution_count": 43,
   "metadata": {},
   "outputs": [],
   "source": [
    "from splinter import Browser\n",
    "from bs4 import BeautifulSoup\n",
    "import pandas as pd\n",
    "import datetime as dt\n",
    "import requests\n",
    "import re"
   ]
  },
  {
   "cell_type": "code",
   "execution_count": 44,
   "metadata": {},
   "outputs": [],
   "source": [
    "executable_path = {'executable_path': '../chromedriver.exe'}\n",
    "browser = Browser('chrome', **executable_path, headless=False)"
   ]
  },
  {
   "cell_type": "code",
   "execution_count": 3,
   "metadata": {},
   "outputs": [],
   "source": [
    "url = 'https://www.nasa.gov/missions/'\n",
    "html = browser.visit(url)"
   ]
  },
  {
   "cell_type": "code",
   "execution_count": 4,
   "metadata": {},
   "outputs": [],
   "source": [
    "html = browser.html\n",
    "soup = BeautifulSoup(html, 'html.parser')"
   ]
  },
  {
   "cell_type": "code",
   "execution_count": 36,
   "metadata": {},
   "outputs": [
    {
     "name": "stdout",
     "output_type": "stream",
     "text": [
      "No Mission Page\n",
      "No Mission Page\n",
      "No Mission Page\n",
      "No Mission Page\n",
      "No Mission Page\n",
      "No Mission Page\n",
      "No Mission Page\n",
      "No Mission Page\n",
      "No Mission Page\n",
      "No Mission Page\n",
      "No Mission Page\n",
      "No Mission Page\n",
      "No Mission Page\n",
      "No Mission Page\n",
      "No Mission Page\n",
      "No Mission Page\n",
      "No Mission Page\n",
      "No Mission Page\n",
      "No Mission Page\n",
      "No Mission Page\n",
      "No Mission Page\n",
      "No Mission Page\n",
      "No Mission Page\n",
      "No Mission Page\n",
      "No Mission Page\n",
      "No Mission Page\n",
      "No Mission Page\n",
      "No Mission Page\n",
      "No Mission Page\n",
      "No Mission Page\n",
      "No Mission Page\n",
      "No Mission Page\n",
      "No Mission Page\n",
      "No Mission Page\n",
      "No Mission Page\n",
      "No Mission Page\n",
      "No Mission Page\n",
      "No Mission Page\n",
      "No Mission Page\n",
      "No Mission Page\n",
      "No Mission Page\n",
      "No Mission Page\n",
      "No Mission Page\n",
      "No Mission Page\n",
      "No Mission Page\n",
      "No Mission Page\n",
      "No Mission Page\n",
      "No Mission Page\n",
      "No Mission Page\n",
      "No Mission Page\n",
      "No Mission Page\n",
      "No Mission Page\n",
      "No Mission Page\n",
      "No Mission Page\n",
      "No Mission Page\n",
      "No Mission Page\n",
      "No Mission Page\n",
      "No Mission Page\n",
      "No Mission Page\n",
      "No Mission Page\n",
      "No Mission Page\n",
      "No Mission Page\n",
      "No Mission Page\n",
      "No Mission Page\n",
      "No Mission Page\n",
      "No Mission Page\n",
      "No Mission Page\n",
      "No Mission Page\n",
      "No Mission Page\n",
      "No Mission Page\n",
      "No Mission Page\n",
      "No Mission Page\n",
      "No Mission Page\n",
      "No Mission Page\n",
      "No Mission Page\n",
      "No Mission Page\n",
      "No Mission Page\n",
      "No Mission Page\n",
      "No Mission Page\n",
      "No Mission Page\n",
      "No Mission Page\n",
      "No Mission Page\n",
      "No Mission Page\n",
      "No Mission Page\n",
      "No Mission Page\n",
      "No Mission Page\n",
      "No Mission Page\n",
      "No Mission Page\n",
      "No Mission Page\n",
      "No Mission Page\n",
      "No Mission Page\n",
      "No Mission Page\n",
      "No Mission Page\n",
      "No Mission Page\n",
      "No Mission Page\n",
      "No Mission Page\n",
      "No Mission Page\n",
      "No Mission Page\n",
      "No Mission Page\n",
      "No Mission Page\n",
      "No Mission Page\n",
      "No Mission Page\n",
      "No Mission Page\n",
      "No Mission Page\n",
      "No Mission Page\n",
      "No Mission Page\n",
      "No Mission Page\n",
      "No Mission Page\n",
      "No Mission Page\n",
      "No Mission Page\n",
      "No Mission Page\n",
      "No Mission Page\n",
      "No Mission Page\n",
      "No Mission Page\n",
      "No Mission Page\n",
      "No Mission Page\n",
      "No Mission Page\n",
      "No Mission Page\n",
      "No Mission Page\n",
      "No Mission Page\n",
      "No Mission Page\n",
      "No Mission Page\n",
      "No Mission Page\n",
      "No Mission Page\n",
      "No Mission Page\n",
      "No Mission Page\n",
      "No Mission Page\n",
      "No Mission Page\n",
      "No Mission Page\n",
      "No Mission Page\n",
      "No Mission Page\n",
      "No Mission Page\n",
      "No Mission Page\n",
      "No Mission Page\n",
      "No Mission Page\n",
      "No Mission Page\n",
      "No Mission Page\n",
      "No Mission Page\n",
      "No Mission Page\n",
      "No Mission Page\n",
      "No Mission Page\n",
      "No Mission Page\n"
     ]
    },
    {
     "ename": "IndexError",
     "evalue": "list index out of range",
     "output_type": "error",
     "traceback": [
      "\u001b[1;31m---------------------------------------------------------------------------\u001b[0m",
      "\u001b[1;31mIndexError\u001b[0m                                Traceback (most recent call last)",
      "\u001b[1;32m<ipython-input-36-cae8177b6d5c>\u001b[0m in \u001b[0;36m<module>\u001b[1;34m()\u001b[0m\n\u001b[0;32m      7\u001b[0m \u001b[1;32mfor\u001b[0m \u001b[0mlink\u001b[0m \u001b[1;32min\u001b[0m \u001b[0mlinks\u001b[0m\u001b[1;33m:\u001b[0m\u001b[1;33m\u001b[0m\u001b[0m\n\u001b[0;32m      8\u001b[0m     \u001b[0mc\u001b[0m \u001b[1;33m+=\u001b[0m \u001b[1;36m1\u001b[0m\u001b[1;33m\u001b[0m\u001b[0m\n\u001b[1;32m----> 9\u001b[1;33m     \u001b[1;32mif\u001b[0m \u001b[0mlinks\u001b[0m\u001b[1;33m[\u001b[0m\u001b[0mc\u001b[0m\u001b[1;33m]\u001b[0m\u001b[1;33m.\u001b[0m\u001b[0mget\u001b[0m\u001b[1;33m(\u001b[0m\u001b[1;34m'href'\u001b[0m\u001b[1;33m)\u001b[0m\u001b[1;33m.\u001b[0m\u001b[0mfind\u001b[0m\u001b[1;33m(\u001b[0m\u001b[1;34m\"mission_pages\"\u001b[0m\u001b[1;33m)\u001b[0m \u001b[1;33m==\u001b[0m \u001b[1;36m1\u001b[0m\u001b[1;33m:\u001b[0m\u001b[1;33m\u001b[0m\u001b[0m\n\u001b[0m\u001b[0;32m     10\u001b[0m         \u001b[0mlink_list\u001b[0m\u001b[1;33m.\u001b[0m\u001b[0mappend\u001b[0m\u001b[1;33m(\u001b[0m\u001b[0mlinks\u001b[0m\u001b[1;33m[\u001b[0m\u001b[0mc\u001b[0m\u001b[1;33m]\u001b[0m\u001b[1;33m[\u001b[0m\u001b[1;34m'href'\u001b[0m\u001b[1;33m]\u001b[0m\u001b[1;33m)\u001b[0m\u001b[1;33m\u001b[0m\u001b[0m\n\u001b[0;32m     11\u001b[0m         \u001b[0mtitle_list\u001b[0m\u001b[1;33m.\u001b[0m\u001b[0mappend\u001b[0m\u001b[1;33m(\u001b[0m\u001b[0mlinks\u001b[0m\u001b[1;33m[\u001b[0m\u001b[0mc\u001b[0m\u001b[1;33m]\u001b[0m\u001b[1;33m.\u001b[0m\u001b[0mtext\u001b[0m\u001b[1;33m)\u001b[0m\u001b[1;33m\u001b[0m\u001b[0m\n",
      "\u001b[1;31mIndexError\u001b[0m: list index out of range"
     ]
    }
   ],
   "source": [
    "pages = soup.find('div', class_=\"static-landing-page\")\n",
    "pages.find_all('a', href=True)\n",
    "links = [a for a in soup.find('div', class_=\"static-landing-page\").find_all('a', href = True)]\n",
    "c = 0     \n",
    "link_list = []\n",
    "title_list = []\n",
    "for link in links:\n",
    "    c += 1\n",
    "    if links[c].get('href').find(\"mission_pages\") == 1:\n",
    "        link_list.append(links[c]['href'])\n",
    "        title_list.append(links[c].text)\n",
    "    else:\n",
    "        print('No Mission Page')"
   ]
  },
  {
   "cell_type": "code",
   "execution_count": 45,
   "metadata": {},
   "outputs": [],
   "source": [
    "url = 'https://www.nasa.gov/missions/'\n",
    "html = browser.visit(url)\n",
    "html = browser.html\n",
    "soup = BeautifulSoup(html, 'html.parser')\n",
    "\n",
    "        "
   ]
  },
  {
   "cell_type": "code",
   "execution_count": 46,
   "metadata": {},
   "outputs": [
    {
     "name": "stdout",
     "output_type": "stream",
     "text": [
      "No Mission Page\n",
      "No Mission Page\n",
      "No Mission Page\n",
      "No Mission Page\n",
      "No Mission Page\n",
      "No Mission Page\n",
      "No Mission Page\n",
      "No Mission Page\n",
      "No Mission Page\n",
      "No Mission Page\n",
      "No Mission Page\n",
      "No Mission Page\n",
      "No Mission Page\n",
      "No Mission Page\n",
      "No Mission Page\n",
      "No Mission Page\n",
      "No Mission Page\n",
      "No Mission Page\n",
      "No Mission Page\n",
      "No Mission Page\n",
      "No Mission Page\n",
      "No Mission Page\n",
      "No Mission Page\n",
      "No Mission Page\n",
      "No Mission Page\n",
      "No Mission Page\n",
      "No Mission Page\n",
      "No Mission Page\n",
      "No Mission Page\n",
      "No Mission Page\n",
      "No Mission Page\n",
      "No Mission Page\n",
      "No Mission Page\n",
      "No Mission Page\n",
      "No Mission Page\n",
      "No Mission Page\n",
      "No Mission Page\n",
      "No Mission Page\n",
      "No Mission Page\n",
      "No Mission Page\n",
      "No Mission Page\n",
      "No Mission Page\n",
      "No Mission Page\n",
      "No Mission Page\n",
      "No Mission Page\n",
      "No Mission Page\n",
      "No Mission Page\n",
      "No Mission Page\n",
      "No Mission Page\n",
      "No Mission Page\n",
      "No Mission Page\n",
      "No Mission Page\n",
      "No Mission Page\n",
      "No Mission Page\n",
      "No Mission Page\n",
      "No Mission Page\n",
      "No Mission Page\n",
      "No Mission Page\n",
      "No Mission Page\n",
      "No Mission Page\n",
      "No Mission Page\n",
      "No Mission Page\n",
      "No Mission Page\n",
      "No Mission Page\n",
      "No Mission Page\n",
      "No Mission Page\n",
      "No Mission Page\n",
      "No Mission Page\n",
      "No Mission Page\n",
      "No Mission Page\n",
      "No Mission Page\n",
      "No Mission Page\n",
      "No Mission Page\n",
      "No Mission Page\n",
      "No Mission Page\n",
      "No Mission Page\n",
      "No Mission Page\n",
      "No Mission Page\n",
      "No Mission Page\n",
      "No Mission Page\n",
      "No Mission Page\n",
      "No Mission Page\n",
      "No Mission Page\n",
      "No Mission Page\n",
      "No Mission Page\n",
      "No Mission Page\n",
      "No Mission Page\n",
      "No Mission Page\n",
      "No Mission Page\n",
      "No Mission Page\n",
      "No Mission Page\n",
      "No Mission Page\n",
      "No Mission Page\n",
      "No Mission Page\n",
      "No Mission Page\n",
      "No Mission Page\n",
      "No Mission Page\n",
      "No Mission Page\n",
      "No Mission Page\n",
      "No Mission Page\n",
      "No Mission Page\n",
      "No Mission Page\n",
      "No Mission Page\n",
      "No Mission Page\n",
      "No Mission Page\n",
      "No Mission Page\n",
      "No Mission Page\n",
      "No Mission Page\n",
      "No Mission Page\n",
      "No Mission Page\n",
      "No Mission Page\n",
      "No Mission Page\n",
      "No Mission Page\n",
      "No Mission Page\n",
      "No Mission Page\n",
      "No Mission Page\n",
      "No Mission Page\n",
      "No Mission Page\n",
      "No Mission Page\n",
      "No Mission Page\n",
      "No Mission Page\n",
      "No Mission Page\n",
      "No Mission Page\n",
      "No Mission Page\n",
      "No Mission Page\n",
      "No Mission Page\n",
      "No Mission Page\n",
      "No Mission Page\n",
      "No Mission Page\n",
      "No Mission Page\n",
      "No Mission Page\n",
      "No Mission Page\n",
      "No Mission Page\n",
      "No Mission Page\n",
      "No Mission Page\n",
      "No Mission Page\n",
      "No Mission Page\n",
      "No Mission Page\n",
      "No Mission Page\n",
      "No Mission Page\n",
      "No Mission Page\n",
      "No Mission Page\n",
      "No Mission Page\n"
     ]
    }
   ],
   "source": [
    "links = [a for a in soup.find('div', class_=\"static-landing-page\").find_all('a', href = True)]\n",
    "link_list = []\n",
    "title_list = []\n",
    "for i in range(len(links)):\n",
    "    if links[i].get('href').find(\"mission_pages\") == 1:\n",
    "        link_list.append(links[i]['href'])\n",
    "        title_list.append(links[i].text)\n",
    "    else:\n",
    "        print('No Mission Page')\n",
    "mission_dict = {}\n",
    "mission_dict[\"Mission\"] = title_list\n",
    "mission_dict[\"Mission Link\"] = link_list     "
   ]
  },
  {
   "cell_type": "code",
   "execution_count": 47,
   "metadata": {},
   "outputs": [],
   "source": [
    "url = 'https://www.cdscc.nasa.gov/Pages/trackingtoday.html'\n",
    "html = browser.visit(url)\n",
    "html = browser.html\n",
    "soup = BeautifulSoup(html, 'html.parser')"
   ]
  },
  {
   "cell_type": "code",
   "execution_count": 48,
   "metadata": {},
   "outputs": [],
   "source": [
    "tables = pd.read_html(url) \n",
    "abv_tables = pd.DataFrame(tables[3])\n",
    "abv_tables.columns = ['ABV', 'Name']"
   ]
  },
  {
   "cell_type": "code",
   "execution_count": 52,
   "metadata": {},
   "outputs": [
    {
     "data": {
      "text/plain": [
       "list"
      ]
     },
     "execution_count": 52,
     "metadata": {},
     "output_type": "execute_result"
    }
   ],
   "source": [
    "abv_dict = abv_tables.to_dict(\"records\")\n",
    "type(abv_dict)"
   ]
  },
  {
   "cell_type": "code",
   "execution_count": 42,
   "metadata": {},
   "outputs": [],
   "source": [
    "url = 'https://www.cdscc.nasa.gov/Pages/trackingtoday.html'\n",
    "html = browser.visit(url)\n",
    "html = browser.html\n",
    "soup = BeautifulSoup(html, 'html.parser')       \n",
    "abv_table = pd.read_html(url)[3] \n",
    "    \n",
    "abv_table.columns = ['ABV', 'Name']         \n",
    "abv_dict = abv_table.to_dict(\"records\")"
   ]
  },
  {
   "cell_type": "code",
   "execution_count": 39,
   "metadata": {},
   "outputs": [
    {
     "data": {
      "text/plain": [
       "list"
      ]
     },
     "execution_count": 39,
     "metadata": {},
     "output_type": "execute_result"
    }
   ],
   "source": [
    "abv = abv_table.to_dict(\"records\")\n",
    "type(abv)"
   ]
  },
  {
   "cell_type": "code",
   "execution_count": 40,
   "metadata": {},
   "outputs": [
    {
     "ename": "NameError",
     "evalue": "name 'mission_dict' is not defined",
     "output_type": "error",
     "traceback": [
      "\u001b[1;31m---------------------------------------------------------------------------\u001b[0m",
      "\u001b[1;31mNameError\u001b[0m                                 Traceback (most recent call last)",
      "\u001b[1;32m<ipython-input-40-fb7aef100d9b>\u001b[0m in \u001b[0;36m<module>\u001b[1;34m()\u001b[0m\n\u001b[1;32m----> 1\u001b[1;33m \u001b[0mmission_dict\u001b[0m\u001b[1;33m\u001b[0m\u001b[0m\n\u001b[0m",
      "\u001b[1;31mNameError\u001b[0m: name 'mission_dict' is not defined"
     ]
    }
   ],
   "source": [
    "mission_dict"
   ]
  },
  {
   "cell_type": "code",
   "execution_count": 54,
   "metadata": {},
   "outputs": [
    {
     "ename": "NameError",
     "evalue": "name 'PyMongo' is not defined",
     "output_type": "error",
     "traceback": [
      "\u001b[1;31m---------------------------------------------------------------------------\u001b[0m",
      "\u001b[1;31mNameError\u001b[0m                                 Traceback (most recent call last)",
      "\u001b[1;32m<ipython-input-54-472fe9cb376e>\u001b[0m in \u001b[0;36m<module>\u001b[1;34m()\u001b[0m\n\u001b[1;32m----> 1\u001b[1;33m \u001b[0mmongo\u001b[0m \u001b[1;33m=\u001b[0m \u001b[0mPyMongo\u001b[0m\u001b[1;33m(\u001b[0m\u001b[0mapp\u001b[0m\u001b[1;33m,\u001b[0m \u001b[0muri\u001b[0m\u001b[1;33m=\u001b[0m\u001b[1;34m\"mongodb://localhost:27017/nasa_app\"\u001b[0m\u001b[1;33m)\u001b[0m\u001b[1;33m\u001b[0m\u001b[0m\n\u001b[0m",
      "\u001b[1;31mNameError\u001b[0m: name 'PyMongo' is not defined"
     ]
    }
   ],
   "source": [
    "mongo = PyMongo(app, uri=\"mongodb://localhost:27017/nasa_app\")\n"
   ]
  },
  {
   "cell_type": "code",
   "execution_count": null,
   "metadata": {},
   "outputs": [],
   "source": []
  }
 ],
 "metadata": {
  "kernelspec": {
   "display_name": "Python 3",
   "language": "python",
   "name": "python3"
  },
  "language_info": {
   "codemirror_mode": {
    "name": "ipython",
    "version": 3
   },
   "file_extension": ".py",
   "mimetype": "text/x-python",
   "name": "python",
   "nbconvert_exporter": "python",
   "pygments_lexer": "ipython3",
   "version": "3.6.5"
  }
 },
 "nbformat": 4,
 "nbformat_minor": 2
}
